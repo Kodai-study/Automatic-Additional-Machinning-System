{
 "cells": [
  {
   "cell_type": "code",
   "execution_count": 4,
   "metadata": {},
   "outputs": [
    {
     "name": "stdout",
     "output_type": "stream",
     "text": [
      "0.9287745973389355\n"
     ]
    },
    {
     "data": {
      "text/plain": [
       "(0.8381249999999999, 0.9405, 0.9545714285714285, 0.9819019607843137)"
      ]
     },
     "execution_count": 4,
     "metadata": {},
     "output_type": "execute_result"
    }
   ],
   "source": [
    "M3 = 20.115 / 24\n",
    "M4 = 30.096 / 32\n",
    "M5 = 40.092 / 42\n",
    "M6 = 50.077 / 51\n",
    "print(f\"{(M3+M4+M5+M6)/4}\")\n",
    "M3, M4, M5, M6"
   ]
  },
  {
   "cell_type": "code",
   "execution_count": 4,
   "metadata": {},
   "outputs": [],
   "source": [
    "import cv2\n",
    "import numpy as np\n",
    "\n",
    "\n",
    "def preprocess_image(image_path):\n",
    "    # 画像の読み込み\n",
    "    image = cv2.imread(image_path)\n",
    "    end_x = -1\n",
    "    start_x = 400\n",
    "    end_y = 2048\n",
    "    start_y = 0\n",
    "    image = image[start_y:end_y, start_x:end_x]\n",
    "    # グレースケール変換\n",
    "    gray = cv2.cvtColor(image, cv2.COLOR_BGR2GRAY)\n",
    "\n",
    "    # 画像の平滑化\n",
    "    blurred = cv2.GaussianBlur(gray, (5, 5), 0)\n",
    "    cv2.imwrite(\"result_gray.png\", blurred)\n",
    "    return blurred\n",
    "\n",
    "\n",
    "def detect_circles(image_path, min_radius=10, max_radius=100, param1=50, param2=30, Tolerance=1.7, realvalue=0.05):\n",
    "    # 画像の前処理\n",
    "    preprocessed_image = preprocess_image(image_path)\n",
    "\n",
    "    # ハフ変換を用いて円を検出\n",
    "    circles = cv2.HoughCircles(\n",
    "        preprocessed_image,\n",
    "        cv2.HOUGH_GRADIENT,\n",
    "        dp=1,\n",
    "        minDist=20,\n",
    "        param1=param1,\n",
    "        param2=param2,\n",
    "        minRadius=min_radius,\n",
    "        maxRadius=max_radius\n",
    "    )\n",
    "\n",
    "    if circles is not None:\n",
    "        circles = np.uint16(np.around(circles))\n",
    "\n",
    "        # 検出された円を描画\n",
    "        result_image = cv2.imread(image_path)\n",
    "        radiuss = []\n",
    "        for i in circles[0, :]:\n",
    "            center = (i[0], i[1])\n",
    "            radius = i[2]\n",
    "            radiuss.append(radius)\n",
    "\n",
    "            cv2.circle(preprocessed_image, center,\n",
    "                       radius, (0, 255, 0), 2)  # 円を描画\n",
    "            # 合否結果判定\n",
    "            Tolerancemin = Tolerance-0.05\n",
    "            Tolerancemax = Tolerance+0.05\n",
    "            # pxをmmに変換する\n",
    "            realvalue_radius = radius*2*0.05  # 実際の寸法＝直径(半径×2)×1pxの長さ\n",
    "            if realvalue_radius < Tolerancemax and realvalue_radius > Tolerancemin:\n",
    "                gouhi = \"o\"\n",
    "            else:\n",
    "                gouhi = \"x\"\n",
    "\n",
    "            x = round((3513-center[0])*0.05, 2)\n",
    "            y = round((37-center[1])*0.05, 2)\n",
    "            # 座標と直径を表示\n",
    "            realvalue_radius = round(realvalue_radius, 2)\n",
    "            text = f\"(x {x}mm, y {y}mm, center{Tolerance}+-0.05mm,center{realvalue_radius}mm, {gouhi})\"\n",
    "\n",
    "            cv2.putText(preprocessed_image, text, (i[0] - 9*radius, i[1] -\n",
    "                        radius), cv2.FONT_HERSHEY_SIMPLEX, 1, (0, 0, 255), 2)\n",
    "\n",
    "        cv2.imwrite('inspection_result.png', preprocessed_image)\n",
    "        # cv2.imshow('Detected Circles', result_image)\n",
    "        cv2.waitKey(0)\n",
    "        cv2.destroyAllWindows()\n",
    "    else:\n",
    "        print(\"円が検出されませんでした。\")\n",
    "\n",
    "\n",
    "# 使用例\n",
    "detect_circles('./sample_images/work_30x30.png', min_radius=10,\n",
    "               max_radius=100, param1=50, param2=30, realvalue=0.05)"
   ]
  },
  {
   "cell_type": "code",
   "execution_count": null,
   "metadata": {},
   "outputs": [],
   "source": []
  }
 ],
 "metadata": {
  "kernelspec": {
   "display_name": "Python 3",
   "language": "python",
   "name": "python3"
  },
  "language_info": {
   "codemirror_mode": {
    "name": "ipython",
    "version": 3
   },
   "file_extension": ".py",
   "mimetype": "text/x-python",
   "name": "python",
   "nbconvert_exporter": "python",
   "pygments_lexer": "ipython3",
   "version": "3.11.3"
  }
 },
 "nbformat": 4,
 "nbformat_minor": 2
}
