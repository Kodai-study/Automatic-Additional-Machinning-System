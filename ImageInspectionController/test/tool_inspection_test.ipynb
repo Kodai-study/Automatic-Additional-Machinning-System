{
 "cells": [
  {
   "cell_type": "markdown",
   "metadata": {},
   "source": [
    "# ドリルの長さを調べる\n",
    "### 工具の一番下に当たるピクセルを発見する\n",
    "\n",
    " - 工具の部分だけを切り出す\n",
    " - 2値化して、工具の部分だけ0になるようにする\n",
    " - 値が0の一番下のピクセルを探して、一番上からの距離を計算する"
   ]
  },
  {
   "cell_type": "code",
   "execution_count": 16,
   "metadata": {},
   "outputs": [
    {
     "name": "stdout",
     "output_type": "stream",
     "text": [
      "一番下の黒いピクセルの座標: x=293, y=445\n"
     ]
    }
   ],
   "source": [
    "import cv2\n",
    "import numpy as np\n",
    "\n",
    "\n",
    "def find_bottom_black_pixel_coordinates(image_path):\n",
    "    # 画像を読み込む\n",
    "    image = cv2.imread(image_path, cv2.IMREAD_GRAYSCALE)\n",
    "\n",
    "    # 画像を2値化する\n",
    "    _, binary_image = cv2.threshold(image, 128, 255, cv2.THRESH_BINARY)\n",
    "\n",
    "    # 画像の高さと幅を取得\n",
    "    height, width = binary_image.shape\n",
    "\n",
    "    # 画像を下から上にスキャンして、一番最初に見つかった黒いピクセルの座標を取得\n",
    "    for y in range(height-1, -1, -1):\n",
    "        for x in range(width):\n",
    "            if binary_image[y, x] == 0:  # 黒いピクセルを見つけたら\n",
    "                marked_image = cv2.cvtColor(\n",
    "                    cv2.imread(image_path), cv2.COLOR_BGR2RGB)\n",
    "                marked_image[y, x] = [255, 0, 0]  # 赤い印をつける\n",
    "                cv2.imwrite('binary_image_with_marker.png',\n",
    "                            cv2.cvtColor(binary_image, cv2.COLOR_GRAY2RGB))\n",
    "                cv2.imwrite('original_image_with_marker.png',\n",
    "                            cv2.cvtColor(marked_image, cv2.COLOR_RGB2BGR))\n",
    "\n",
    "                return x, y  # 座標を返す\n",
    "\n",
    "    # 2値化した画像に座標の印をつける\n",
    "\n",
    "    # 画像表示\n",
    "\n",
    "    # 黒いピクセルが見つからなかった場合\n",
    "    return None\n",
    "\n",
    "\n",
    "# 画像のパスを指定して座標を取得\n",
    "image_path = './drill_forcus_sample.png'\n",
    "coordinates = find_bottom_black_pixel_coordinates(image_path)\n",
    "\n",
    "if coordinates:\n",
    "    print(f\"一番下の黒いピクセルの座標: x={coordinates[0]}, y={coordinates[1]}\")\n",
    "\n",
    "else:\n",
    "    print(\"画像中に黒いピクセルが見つかりませんでした。\")"
   ]
  },
  {
   "cell_type": "markdown",
   "metadata": {},
   "source": [
    "# ドリルの横幅を調べる\n",
    "### 工具の横幅を調べる\n",
    "\n",
    " - 本当に工具の種類部分だけの画像にする(別のやつが入っていると横幅に引っかかる)\n",
    " - 2値化して、工具の部分だけ0になるようにする\n",
    " - 横軸で、値が0のピクセルを探して、一番左からの距離と一番右からの距離を計算する"
   ]
  },
  {
   "cell_type": "code",
   "execution_count": 8,
   "metadata": {},
   "outputs": [
    {
     "name": "stdout",
     "output_type": "stream",
     "text": [
      "最大横幅: 59\n",
      "画像を保存しました。\n"
     ]
    }
   ],
   "source": [
    "import cv2\n",
    "import numpy as np\n",
    "\n",
    "\n",
    "def find_max_width(image_path):\n",
    "    # 画像を読み込む\n",
    "    original_image = cv2.imread(image_path)\n",
    "    resized_image = cv2.resize(original_image, (500, 500))  # 必要に応じてリサイズ\n",
    "\n",
    "    # 画像を2値化する\n",
    "    gray_image = cv2.cvtColor(resized_image, cv2.COLOR_BGR2GRAY)\n",
    "    _, binary_image = cv2.threshold(gray_image, 128, 255, cv2.THRESH_BINARY)\n",
    "\n",
    "    # 最大横幅とそのY座標を初期化\n",
    "    max_width = 0\n",
    "    max_width_y = 0\n",
    "\n",
    "    target_min_x = 0\n",
    "    target_max_x = 0\n",
    "\n",
    "    # 1行ずつ黒色の最小と最大のピクセルを探し、横幅を計算する\n",
    "    for y in range(binary_image.shape[0]):\n",
    "        black_pixels = np.where(binary_image[y, :] == 0)[0]\n",
    "        if len(black_pixels) > 0:\n",
    "            min_x = np.min(black_pixels)\n",
    "            max_x = np.max(black_pixels)\n",
    "            width = max_x - min_x\n",
    "            if width > max_width:\n",
    "                target_max_x = max_x\n",
    "                target_min_x = min_x\n",
    "                max_width = width\n",
    "                max_width_y = y\n",
    "\n",
    "    print(\"最大横幅:\", max_width)\n",
    "\n",
    "    # 最大横幅があるY座標にマークを付ける\n",
    "    marked_image = resized_image.copy()\n",
    "    cv2.line(marked_image, (target_min_x, max_width_y),\n",
    "             (target_max_x, max_width_y), (0, 255, 0), 2)\n",
    "    # 画像保存\n",
    "    cv2.imwrite('marked_image_with_max_width.png', marked_image)\n",
    "    print(\"画像を保存しました。\")\n",
    "\n",
    "\n",
    "# 画像のパスを指定して処理を実行\n",
    "image_path = './drill_test2.png'  # 画像のパスを適切に指定してください\n",
    "find_max_width(image_path)"
   ]
  },
  {
   "cell_type": "markdown",
   "metadata": {},
   "source": [
    "# ドリルの種類を調べる\n",
    "### 工具がドリルかタップか、種類を調べる\n",
    "\n",
    " - 工具の一部の部分だけをパターンとして切り出す\n",
    " - 工具の写真を撮ったときに、パターンと一致する部分があるかどうかを調べる\n",
    " - パターンマッチングで、ドリルかタップかの判別をするのか、穴のサイズを含めた工具の種類を判別するのかを調べる"
   ]
  },
  {
   "cell_type": "code",
   "execution_count": 14,
   "metadata": {},
   "outputs": [
    {
     "name": "stdout",
     "output_type": "stream",
     "text": [
      "テンプレートが見つかりました。\n"
     ]
    }
   ],
   "source": [
    "import cv2\n",
    "import numpy as np\n",
    "\n",
    "\n",
    "def template_matching(template_path, target_path, threshold=0.8):\n",
    "    # テンプレート画像の読み込み\n",
    "    template = cv2.imread(template_path, 0)\n",
    "\n",
    "    # 対象画像の読み込み\n",
    "    target = cv2.imread(target_path, 0)\n",
    "\n",
    "    # テンプレートマッチングの実行\n",
    "    result = cv2.matchTemplate(target, template, cv2.TM_CCOEFF_NORMED)\n",
    "\n",
    "    # 最大値とその位置を取得\n",
    "    min_val, max_val, min_loc, max_loc = cv2.minMaxLoc(result)\n",
    "\n",
    "    # マッチング率が閾値以上の場合に判定\n",
    "    if max_val >= threshold:\n",
    "        # テンプレートが最もマッチした位置に矩形を描画\n",
    "        h, w = template.shape\n",
    "        top_left = max_loc\n",
    "        bottom_right = (top_left[0] + w, top_left[1] + h)\n",
    "        cv2.rectangle(target, top_left, bottom_right, 0, 2)\n",
    "\n",
    "        # 結果の表示\n",
    "        cv2.imwrite('Result_templatematching.png', target)\n",
    "        print(\"テンプレートが見つかりました。\")\n",
    "    else:\n",
    "        print(\"テンプレートは見つかりませんでした。\")\n",
    "\n",
    "\n",
    "if __name__ == \"__main__\":\n",
    "    template_path = './tool_templete_tap.png'\n",
    "    target_path = './imgc.png'\n",
    "\n",
    "    template_matching(template_path, target_path)"
   ]
  },
  {
   "cell_type": "code",
   "execution_count": null,
   "metadata": {},
   "outputs": [],
   "source": []
  }
 ],
 "metadata": {
  "kernelspec": {
   "display_name": "Python 3",
   "language": "python",
   "name": "python3"
  },
  "language_info": {
   "codemirror_mode": {
    "name": "ipython",
    "version": 3
   },
   "file_extension": ".py",
   "mimetype": "text/x-python",
   "name": "python",
   "nbconvert_exporter": "python",
   "pygments_lexer": "ipython3",
   "version": "3.12.0"
  }
 },
 "nbformat": 4,
 "nbformat_minor": 2
}
