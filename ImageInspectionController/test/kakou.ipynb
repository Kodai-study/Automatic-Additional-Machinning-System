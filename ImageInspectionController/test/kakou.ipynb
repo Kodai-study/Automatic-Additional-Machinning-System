{
 "cells": [
  {
   "cell_type": "code",
   "execution_count": 5,
   "metadata": {},
   "outputs": [
    {
     "name": "stdout",
     "output_type": "stream",
     "text": [
      "90度の角度を形成する直線が検出されました。\n"
     ]
    },
    {
     "data": {
      "text/plain": [
       "True"
      ]
     },
     "execution_count": 5,
     "metadata": {},
     "output_type": "execute_result"
    }
   ],
   "source": [
    "import cv2\n",
    "import numpy as np\n",
    "\n",
    "\n",
    "def detect_90_degree_angle(image_path):\n",
    "    # 画像の読み込み\n",
    "    image = cv2.imread(image_path)\n",
    "\n",
    "    # グレースケールに変換\n",
    "    gray = cv2.cvtColor(image, cv2.COLOR_BGR2GRAY)\n",
    "\n",
    "    # エッジ検出\n",
    "    edges = cv2.Canny(gray, 50, 150, apertureSize=3)\n",
    "\n",
    "    # 直線検出\n",
    "    lines = cv2.HoughLines(edges, 1, np.pi/180, threshold=100)\n",
    "\n",
    "    # 90度の角度を形成する直線があるかどうかの判定\n",
    "    if lines is not None:\n",
    "        for line in lines:\n",
    "            rho, theta = line[0]\n",
    "            angle = theta * 180 / np.pi\n",
    "            if 85 < angle < 95 or 175 < angle < 185:  # 90度付近の直線を検出\n",
    "                print(\"90度の角度を形成する直線が検出されました。\")\n",
    "                return True\n",
    "\n",
    "    print(\"90度の角度を形成する直線は検出されませんでした。\")\n",
    "    return False\n",
    "\n",
    "\n",
    "# 画像のパスを指定して実行\n",
    "image_path = './kakou100_100.png'\n",
    "detect_90_degree_angle(image_path)"
   ]
  },
  {
   "cell_type": "code",
   "execution_count": null,
   "metadata": {},
   "outputs": [],
   "source": []
  }
 ],
 "metadata": {
  "kernelspec": {
   "display_name": "Python 3",
   "language": "python",
   "name": "python3"
  },
  "language_info": {
   "codemirror_mode": {
    "name": "ipython",
    "version": 3
   },
   "file_extension": ".py",
   "mimetype": "text/x-python",
   "name": "python",
   "nbconvert_exporter": "python",
   "pygments_lexer": "ipython3",
   "version": "3.12.0"
  }
 },
 "nbformat": 4,
 "nbformat_minor": 2
}
