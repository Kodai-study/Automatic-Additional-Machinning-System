{
 "cells": [
  {
   "cell_type": "code",
   "execution_count": 1,
   "metadata": {},
   "outputs": [
    {
     "name": "stdout",
     "output_type": "stream",
     "text": [
      "90度の角度を形成する直線が検出されました。\n"
     ]
    },
    {
     "data": {
      "text/plain": [
       "True"
      ]
     },
     "execution_count": 1,
     "metadata": {},
     "output_type": "execute_result"
    }
   ],
   "source": [
    "import cv2\n",
    "import numpy as np\n",
    "\n",
    "\n",
    "def detect_90_degree_angle(image_path):\n",
    "    # 画像の読み込み\n",
    "    image = cv2.imread(image_path)\n",
    "\n",
    "    # グレースケールに変換\n",
    "    gray = cv2.cvtColor(image, cv2.COLOR_BGR2GRAY)\n",
    "\n",
    "    # エッジ検出\n",
    "    edges = cv2.Canny(gray, 50, 150, apertureSize=3)\n",
    "\n",
    "    # 直線検出\n",
    "    lines = cv2.HoughLines(edges, 1, np.pi/180, threshold=100)\n",
    "\n",
    "    # 90度の角度を形成する直線があるかどうかの判定\n",
    "    if lines is not None:\n",
    "        for line in lines:\n",
    "            rho, theta = line[0]\n",
    "            angle = theta * 180 / np.pi\n",
    "            if 85 < angle < 95 or 175 < angle < 185:  # 90度付近の直線を検出\n",
    "                print(\"90度の角度を形成する直線が検出されました。\")\n",
    "                return True\n",
    "\n",
    "    print(\"90度の角度を形成する直線は検出されませんでした。\")\n",
    "    return False\n",
    "\n",
    "\n",
    "# 画像のパスを指定して実行\n",
    "image_path = './kakou100_100.png'\n",
    "detect_90_degree_angle(image_path)"
   ]
  },
  {
   "cell_type": "code",
   "execution_count": 2,
   "metadata": {},
   "outputs": [
    {
     "name": "stdout",
     "output_type": "stream",
     "text": [
      "90度の角度を形成する直線が検出されました。\n"
     ]
    },
    {
     "data": {
      "text/plain": [
       "True"
      ]
     },
     "execution_count": 2,
     "metadata": {},
     "output_type": "execute_result"
    }
   ],
   "source": [
    "import cv2\n",
    "import numpy as np\n",
    "\n",
    "def detect_90_degree_angle(image_path, output_path):\n",
    "    # 画像の読み込み\n",
    "    image = cv2.imread(image_path)\n",
    "\n",
    "    # グレースケールに変換\n",
    "    gray = cv2.cvtColor(image, cv2.COLOR_BGR2GRAY)\n",
    "\n",
    "    # エッジ検出\n",
    "    edges = cv2.Canny(gray, 50, 150, apertureSize=3)\n",
    "\n",
    "    # 直線検出\n",
    "    lines = cv2.HoughLines(edges, 1, np.pi/180, threshold=100)\n",
    "\n",
    "    # 90度の角度を形成する直線があるかどうかの判定\n",
    "    if lines is not None:\n",
    "        for line in lines:\n",
    "            rho, theta = line[0]\n",
    "            angle = theta * 180 / np.pi\n",
    "            if 85 < angle < 95 or 175 < angle < 185:  # 90度付近の直線を検出\n",
    "                print(\"90度の角度を形成する直線が検出されました。\")\n",
    "\n",
    "                # 検出した直線を描画\n",
    "                a = np.cos(theta)\n",
    "                b = np.sin(theta)\n",
    "                x0 = a * rho\n",
    "                y0 = b * rho\n",
    "                x1 = int(x0 + 1000 * (-b))\n",
    "                y1 = int(y0 + 1000 * (a))\n",
    "                x2 = int(x0 - 1000 * (-b))\n",
    "                y2 = int(y0 - 1000 * (a))\n",
    "                cv2.line(image, (x1, y1), (x2, y2), (0, 0, 255), 2)\n",
    "\n",
    "                # 画像を保存\n",
    "                cv2.imwrite(output_path, image)\n",
    "                return True\n",
    "\n",
    "    print(\"90度の角度を形成する直線は検出されませんでした。\")\n",
    "    return False\n",
    "\n",
    "# 画像のパスと出力先のパスを指定して実行\n",
    "image_path = './kakou100_100.png'\n",
    "output_path = './result_image.png'\n",
    "detect_90_degree_angle(image_path, output_path)\n"
   ]
  },
  {
   "cell_type": "code",
   "execution_count": 16,
   "metadata": {},
   "outputs": [
    {
     "name": "stdout",
     "output_type": "stream",
     "text": [
      "90度の角度を形成する直線が検出されました.\n"
     ]
    },
    {
     "data": {
      "text/plain": [
       "True"
      ]
     },
     "execution_count": 16,
     "metadata": {},
     "output_type": "execute_result"
    }
   ],
   "source": [
    "import cv2\n",
    "import numpy as np\n",
    "\n",
    "def detect_90_degree_angle(image_path, output_path):\n",
    "    # 画像の読み込み\n",
    "    image = cv2.imread(image_path)\n",
    "\n",
    "    # グレースケールに変換\n",
    "    gray = cv2.cvtColor(image, cv2.COLOR_BGR2GRAY)\n",
    "\n",
    "    # 2値化\n",
    "    _, binary = cv2.threshold(gray, 30, 255, cv2.THRESH_BINARY)\n",
    "    cv2.imwrite(\"./result_image1.png\",binary)\n",
    "    # エッジ検出\n",
    "    edges = cv2.Canny(binary, 50, 150, apertureSize=3)\n",
    "\n",
    "    # 直線検出\n",
    "    lines = cv2.HoughLines(edges, 1, np.pi/180, threshold=5)\n",
    "\n",
    "    # 90度の角度を形成する直線があるかどうかの判定\n",
    "    if lines is not None:\n",
    "        for line in lines:\n",
    "            rho, theta = line[0]\n",
    "            angle = theta * 180 / np.pi\n",
    "            if 85 < angle < 95 or 175 < angle < 185:  # 90度付近の直線を検出\n",
    "                print(\"90度の角度を形成する直線が検出されました.\")\n",
    "\n",
    "                # 検出した直線を描画\n",
    "                a = np.cos(theta)\n",
    "                b = np.sin(theta)\n",
    "                x0 = a * rho\n",
    "                y0 = b * rho\n",
    "                x1 = int(x0 + 1000 * (-b))\n",
    "                y1 = int(y0 + 1000 * (a))\n",
    "                x2 = int(x0 - 1000 * (-b))\n",
    "                y2 = int(y0 - 1000 * (a))\n",
    "                cv2.line(image, (x1, y1), (x2, y2), (0, 0, 255), 2)\n",
    "\n",
    "                # 画像を保存\n",
    "                cv2.imwrite(output_path, image)\n",
    "                return True\n",
    "\n",
    "    print(\"90度の角度を形成する直線は検出されませんでした.\")\n",
    "    return False\n",
    "\n",
    "# 画像のパスと出力先のパスを指定して実行\n",
    "image_path = './result_puttext.png'\n",
    "output_path = './result_image.png'\n",
    "detect_90_degree_angle(image_path, output_path)\n"
   ]
  },
  {
   "cell_type": "code",
   "execution_count": 19,
   "metadata": {},
   "outputs": [
    {
     "name": "stdout",
     "output_type": "stream",
     "text": [
      "15本の90度の角度を形成する直線が検出されました.\n"
     ]
    },
    {
     "data": {
      "text/plain": [
       "True"
      ]
     },
     "execution_count": 19,
     "metadata": {},
     "output_type": "execute_result"
    }
   ],
   "source": [
    "import cv2\n",
    "import numpy as np\n",
    "\n",
    "def detect_90_degree_angles(image_path, output_path):\n",
    "    # 画像の読み込み\n",
    "    image = cv2.imread(image_path)\n",
    "\n",
    "    # グレースケールに変換\n",
    "    gray = cv2.cvtColor(image, cv2.COLOR_BGR2GRAY)\n",
    "\n",
    "    # 2値化\n",
    "    _, binary = cv2.threshold(gray, 55, 255, cv2.THRESH_BINARY)\n",
    "\n",
    "    # エッジ検出\n",
    "    edges = cv2.Canny(binary, 50, 150, apertureSize=3)\n",
    "\n",
    "    # 直線検出\n",
    "    lines = cv2.HoughLines(edges, 1, np.pi/180, threshold=100)\n",
    "\n",
    "    # 90度の角度を形成する直線があるかどうかの判定\n",
    "    if lines is not None:\n",
    "        for line in lines:\n",
    "            rho, theta = line[0]\n",
    "            angle = theta * 180 / np.pi\n",
    "            if 85 < angle < 95 or 175 < angle < 185:  # 90度付近の直線を検出\n",
    "\n",
    "                # 検出した直線を描画\n",
    "                a = np.cos(theta)\n",
    "                b = np.sin(theta)\n",
    "                x0 = a * rho\n",
    "                y0 = b * rho\n",
    "                x1 = int(x0 + 1000 * (-b))\n",
    "                y1 = int(y0 + 1000 * (a))\n",
    "                x2 = int(x0 - 1000 * (-b))\n",
    "                y2 = int(y0 - 1000 * (a))\n",
    "                cv2.line(image, (x1, y1), (x2, y2), (0, 0, 255), 2)\n",
    "\n",
    "        # 画像を保存\n",
    "        cv2.imwrite(output_path, image)\n",
    "\n",
    "        if len(lines) > 1:\n",
    "            print(f\"{len(lines)}本の90度の角度を形成する直線が検出されました.\")\n",
    "        else:\n",
    "            print(\"90度の角度を形成する直線は検出されませんでした.\")\n",
    "        return True\n",
    "\n",
    "    print(\"直線は検出されませんでした.\")\n",
    "    return False\n",
    "\n",
    "# 画像のパスと出力先のパスを指定して実行\n",
    "image_path = './kakou100_100.png'\n",
    "output_path = './result_image.png'\n",
    "detect_90_degree_angles(image_path, output_path)\n"
   ]
  }
 ],
 "metadata": {
  "kernelspec": {
   "display_name": "Python 3",
   "language": "python",
   "name": "python3"
  },
  "language_info": {
   "codemirror_mode": {
    "name": "ipython",
    "version": 3
   },
   "file_extension": ".py",
   "mimetype": "text/x-python",
   "name": "python",
   "nbconvert_exporter": "python",
   "pygments_lexer": "ipython3",
   "version": "3.8.10"
  }
 },
 "nbformat": 4,
 "nbformat_minor": 2
}
