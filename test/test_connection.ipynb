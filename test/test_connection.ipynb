{
 "cells": [
  {
   "cell_type": "code",
   "execution_count": null,
   "metadata": {},
   "outputs": [],
   "source": [
    "import socket        \n",
    "\n",
    "host = \"192.168.16.101\"\n",
    "port = 8765\n",
    "\n",
    "socket.bind((host, port))\n",
    "socket.listen()\n",
    "print(f\"\"\"UR との接続を待機中... IPアドレス:{\n",
    "    host} ポート番号: {port}, \"\"\")\n",
    "socket, _ = socket.accept()\n",
    "\n",
    "while True:\n",
    "    cmd = input()\n",
    "    if cmd == \"bye\":\n",
    "        break\n",
    "\n",
    "    socket."
   ]
  },
  {
   "cell_type": "code",
   "execution_count": null,
   "metadata": {},
   "outputs": [],
   "source": []
  }
 ],
 "metadata": {
  "kernelspec": {
   "display_name": "Python 3",
   "language": "python",
   "name": "python3"
  },
  "language_info": {
   "name": "python",
   "version": "3.7.8"
  },
  "orig_nbformat": 4
 },
 "nbformat": 4,
 "nbformat_minor": 2
}
