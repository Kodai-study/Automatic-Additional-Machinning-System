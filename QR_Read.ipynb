{
 "cells": [
  {
   "cell_type": "code",
   "execution_count": 10,
   "metadata": {},
   "outputs": [
    {
     "name": "stdout",
     "output_type": "stream",
     "text": [
      "Data :  1234567 \n",
      "\n"
     ]
    },
    {
     "ename": "error",
     "evalue": "OpenCV(4.8.1) :-1: error: (-5:Bad argument) in function 'line'\n> Overload resolution failed:\n>  - Can't parse 'pt1'. Sequence item with index 0 has a wrong type\n>  - Can't parse 'pt1'. Sequence item with index 0 has a wrong type\n",
     "output_type": "error",
     "traceback": [
      "\u001b[1;31m---------------------------------------------------------------------------\u001b[0m",
      "\u001b[1;31merror\u001b[0m                                     Traceback (most recent call last)",
      "\u001b[1;32mC:\\temp\\ipykernel_8464\\2420374410.py\u001b[0m in \u001b[0;36m<module>\u001b[1;34m\u001b[0m\n\u001b[0;32m     37\u001b[0m \u001b[1;33m\u001b[0m\u001b[0m\n\u001b[0;32m     38\u001b[0m \u001b[1;31m# 画像のパスを指定して関数を呼び出す\u001b[0m\u001b[1;33m\u001b[0m\u001b[1;33m\u001b[0m\u001b[1;33m\u001b[0m\u001b[0m\n\u001b[1;32m---> 39\u001b[1;33m \u001b[0mread_qr_code\u001b[0m\u001b[1;33m(\u001b[0m\u001b[1;34m'img/QRcode.png'\u001b[0m\u001b[1;33m)\u001b[0m\u001b[1;33m\u001b[0m\u001b[1;33m\u001b[0m\u001b[0m\n\u001b[0m",
      "\u001b[1;32mC:\\temp\\ipykernel_8464\\2420374410.py\u001b[0m in \u001b[0;36mread_qr_code\u001b[1;34m(image_path)\u001b[0m\n\u001b[0;32m     20\u001b[0m             \u001b[1;31m# 線を描く\u001b[0m\u001b[1;33m\u001b[0m\u001b[1;33m\u001b[0m\u001b[1;33m\u001b[0m\u001b[0m\n\u001b[0;32m     21\u001b[0m             cv2.line(img, tuple(points[0][i]), tuple(\n\u001b[1;32m---> 22\u001b[1;33m                 points[0][(i+1) % 4]), (0, 0, 255), 3)\n\u001b[0m\u001b[0;32m     23\u001b[0m \u001b[1;33m\u001b[0m\u001b[0m\n\u001b[0;32m     24\u001b[0m         \u001b[1;31m# 画像を表示する\u001b[0m\u001b[1;33m\u001b[0m\u001b[1;33m\u001b[0m\u001b[1;33m\u001b[0m\u001b[0m\n",
      "\u001b[1;31merror\u001b[0m: OpenCV(4.8.1) :-1: error: (-5:Bad argument) in function 'line'\n> Overload resolution failed:\n>  - Can't parse 'pt1'. Sequence item with index 0 has a wrong type\n>  - Can't parse 'pt1'. Sequence item with index 0 has a wrong type\n"
     ]
    }
   ],
   "source": [
    "import cv2\n",
    "import matplotlib.pyplot as plt\n",
    "\n",
    "\n",
    "def read_qr_code(image_path):\n",
    "    # 画像を読み込む\n",
    "    img = cv2.imread(image_path)\n",
    "\n",
    "    # QRCodeDetectorオブジェクトを作成する\n",
    "    detector = cv2.QRCodeDetector()\n",
    "\n",
    "    # QRコードを検出してデコードする\n",
    "    data, points, straight_qrcode = detector.detectAndDecode(img)\n",
    "\n",
    "    if data:\n",
    "        print('Data : ', data, '\\n')\n",
    "\n",
    "        # QRコードの四隅を赤色の四角で囲む\n",
    "        for i in range(4):\n",
    "            # 線を描く\n",
    "            cv2.line(img, tuple(points[0][i]), tuple(\n",
    "                points[0][(i+1) % 4]), (0, 0, 255), 3)\n",
    "\n",
    "        # 画像を表示する\n",
    "        plt.imshow(cv2.cvtColor(img, cv2.COLOR_BGR2RGB))\n",
    "        plt.show()\n",
    "\n",
    "        # straight_qrcode を表示する\n",
    "        plt.imshow(cv2.cvtColor(straight_qrcode, cv2.COLOR_BGR2RGB))\n",
    "        plt.show()\n",
    "        cv2.waitKey(0)\n",
    "        cv2.destroyAllWindows()\n",
    "\n",
    "    else:\n",
    "        print(\"No QR!!\")\n",
    "\n",
    "\n",
    "# 画像のパスを指定して関数を呼び出す\n",
    "read_qr_code('img/QRcode.png')\n"
   ]
  },
  {
   "cell_type": "code",
   "execution_count": 3,
   "metadata": {},
   "outputs": [
    {
     "name": "stdout",
     "output_type": "stream",
     "text": [
      "IMG_2337.jpg: ('1234567',)\n",
      "IMG_2338.jpg: ('1234567',)\n",
      "IMG_2339.jpg: ('',)\n",
      "読み取り失敗 : img\\IMG_2341.jpg\n",
      "QRcode.png: ('1234567',)\n"
     ]
    }
   ],
   "source": [
    "import cv2\n",
    "import os\n",
    "import glob\n",
    "\n",
    "\n",
    "def read_qr_code(image_path):\n",
    "    # 画像を読み込む\n",
    "    img = cv2.imread(image_path)\n",
    "\n",
    "    # QRCodeDetectorオブジェクトを作成する\n",
    "    detector = cv2.QRCodeDetector()\n",
    "\n",
    "    # QRコードを検出してデコードする\n",
    "    import cv2\n",
    "\n",
    "\n",
    "def read_qr_code(image_path):\n",
    "    # 画像を読み込む\n",
    "    img = cv2.imread(image_path)\n",
    "\n",
    "    # QRCodeDetectorオブジェクトを作成する\n",
    "    detector = cv2.QRCodeDetector()\n",
    "\n",
    "    # QRコードを検出してデコードする\n",
    "    retval, decoded_info, points, straight_code = detector.detectAndDecodeMulti(\n",
    "        img)\n",
    "\n",
    "    if retval:\n",
    "        print(f'{os.path.basename(image_path)}: {decoded_info}')\n",
    "    else:\n",
    "        print(f\"読み取り失敗 : {image_path}\")\n",
    "\n",
    "\n",
    "# imgフォルダ内のすべての画像ファイルに対してQRコードの読み取りを行う\n",
    "for image_file in glob.glob('img/*'):\n",
    "    read_qr_code(image_file)\n"
   ]
  },
  {
   "cell_type": "code",
   "execution_count": 26,
   "metadata": {},
   "outputs": [
    {
     "name": "stdout",
     "output_type": "stream",
     "text": [
      "読み取り失敗 : img\\IMG_2337.jpg\n",
      "読み取り失敗 : img\\IMG_2338.jpg\n",
      "読み取り失敗 : img\\IMG_2339.jpg\n",
      "読み取り失敗 : img\\IMG_2341.jpg\n",
      "QRcode.png: 1234567\n"
     ]
    }
   ],
   "source": [
    "from pyzbar.pyzbar import decode, ZBarSymbol\n",
    "from PIL import Image\n",
    "import os\n",
    "import glob\n",
    "\n",
    "\n",
    "def read_qr_code(image_path):\n",
    "    # 画像を開く\n",
    "    img = Image.open(image_path)\n",
    "\n",
    "    # QRコードをデコードする\n",
    "    decoded_objects = decode(img, symbols=[ZBarSymbol.QRCODE])\n",
    "\n",
    "    if not decoded_objects:\n",
    "        print(f\"読み取り失敗 : {image_path}\")\n",
    "\n",
    "    # デコードされたデータを表示する\n",
    "    for obj in decoded_objects:\n",
    "        print(f'{os.path.basename(image_path)}: {obj.data.decode()}')\n",
    "\n",
    "\n",
    "# imgフォルダ内のすべての画像ファイルに対してQRコードの読み取りを行う\n",
    "for image_file in glob.glob('img/*'):\n",
    "    read_qr_code(image_file)\n"
   ]
  },
  {
   "cell_type": "code",
   "execution_count": 28,
   "metadata": {},
   "outputs": [
    {
     "name": "stdout",
     "output_type": "stream",
     "text": [
      "QRコードの内容: 1234567\n"
     ]
    }
   ],
   "source": [
    "import cv2\n",
    "import numpy as np\n",
    "\n",
    "# 画像ファイルのパス\n",
    "image_path = 'img./QRcode.png'\n",
    "\n",
    "# 画像をグレースケールで読み込む\n",
    "img = cv2.imread(image_path, cv2.IMREAD_GRAYSCALE)\n",
    "\n",
    "# QRコードをデコードする\n",
    "detector = cv2.QRCodeDetector()\n",
    "data, bbox, _ = detector.detectAndDecode(img)\n",
    "\n",
    "if not data:\n",
    "    print('QRコードが見つかりませんでした。')\n",
    "else:\n",
    "    print(f'QRコードの内容: {data}')\n"
   ]
  },
  {
   "cell_type": "code",
   "execution_count": 30,
   "metadata": {},
   "outputs": [
    {
     "name": "stdout",
     "output_type": "stream",
     "text": [
      "QRコードが見つかりませんでした。\n"
     ]
    }
   ],
   "source": [
    "import cv2\n",
    "import numpy as np\n",
    "\n",
    "# 画像ファイルのパス\n",
    "image_path = 'img./IMG_2337.jpg'\n",
    "\n",
    "# 画像をグレースケールで読み込む\n",
    "img = cv2.imread(image_path, cv2.IMREAD_GRAYSCALE)\n",
    "\n",
    "# QRコードをデコードする\n",
    "detector = cv2.QRCodeDetector()\n",
    "data, bbox, _ = detector.detectAndDecode(img)\n",
    "\n",
    "if not data:\n",
    "    print('QRコードが見つかりませんでした。')\n",
    "else:\n",
    "    print(f'QRコードの内容: {data}')"
   ]
  },
  {
   "cell_type": "code",
   "execution_count": null,
   "metadata": {},
   "outputs": [],
   "source": []
  },
  {
   "cell_type": "code",
   "execution_count": 29,
   "metadata": {},
   "outputs": [
    {
     "name": "stdout",
     "output_type": "stream",
     "text": [
      "QRコードが見つかりませんでした。\n"
     ]
    }
   ],
   "source": [
    "import cv2\n",
    "import numpy as np\n",
    "\n",
    "# 画像ファイルのパス\n",
    "image_path = 'img./IMG_2337.jpg'\n",
    "\n",
    "# 画像をグレースケールで読み込む\n",
    "img = cv2.imread(image_path, cv2.IMREAD_GRAYSCALE)\n",
    "\n",
    "# QRコードをデコードする\n",
    "detector = cv2.QRCodeDetector()\n",
    "data, bbox, _ = detector.detectAndDecode(img)\n",
    "\n",
    "if not data:\n",
    "    print('QRコードが見つかりませんでした。')\n",
    "else:\n",
    "    print(f'QRコードの内容: {data}')\n"
   ]
  },
  {
   "cell_type": "code",
   "execution_count": 39,
   "metadata": {},
   "outputs": [
    {
     "name": "stdout",
     "output_type": "stream",
     "text": [
      "Code Text: 12345**Recognized by Aspose Barcode Reader evaluation version. Only Code39Standard can be recognized without restrictions. Please buy license to use Aspose Barcode Reader without watermarks.\n",
      "Type: QR\n"
     ]
    }
   ],
   "source": [
    "# このコード例は、Python で歪んだまたは破損した QR コードを読み取る方法を示しています。\n",
    "import aspose.barcode as barcode\n",
    "\n",
    "# QRコード画像を読み込む\n",
    "reader = barcode.barcoderecognition.BarCodeReader(\"img./IMG_2337.jpg\")\n",
    "\n",
    "# QR復元を許可する品質設定を指定する\n",
    "reader.quality_settings.allow_qr_micro_qr_restoration = True\n",
    "\n",
    "# QR コードを読み取る\n",
    "recognized_results = reader.read_bar_codes()\n",
    "\n",
    "# 結果を示す\n",
    "for x in recognized_results:\n",
    "    print(\"Code Text: \" + x.code_text)\n",
    "    print(\"Type: \" + x.code_type_name)"
   ]
  },
  {
   "cell_type": "code",
   "execution_count": 4,
   "metadata": {},
   "outputs": [
    {
     "name": "stdout",
     "output_type": "stream",
     "text": [
      "Code Text: 12345**Recognized by Aspose Barcode Reader evaluation version. Only Code39Standard can be recognized without restrictions. Please buy license to use Aspose Barcode Reader without watermarks.\n"
     ]
    }
   ],
   "source": [
    "import aspose.barcode as barcode\n",
    "import os\n",
    "\n",
    "# imgフォルダ内のすべての画像を読み込む\n",
    "for filename in os.listdir(\"img\"):\n",
    "    if filename.endswith(\".jpg\"):\n",
    "        # QRコード画像を読み込む\n",
    "        reader = barcode.barcoderecognition.BarCodeReader(os.path.join(\"img\", filename))\n",
    "\n",
    "        # QR復元を許可する品質設定を指定する\n",
    "        reader.quality_settings.allow_qr_micro_qr_restoration = True\n",
    "\n",
    "        # QR コードを読み取る\n",
    "        recognized_results = reader.read_bar_codes()\n",
    "\n",
    "        # 結果を示す\n",
    "        for x in recognized_results:\n",
    "            print(\"Code Text: \" + x.code_text)\n",
    "            print(\"Type: \" + x.code_type_name)\n"
   ]
  },
  {
   "cell_type": "code",
   "execution_count": 2,
   "metadata": {},
   "outputs": [
    {
     "name": "stdout",
     "output_type": "stream",
     "text": [
      "見つからない\n",
      "見つからない\n",
      "見つからない\n",
      "見つからない\n",
      "QRcode.png: 1234567\n"
     ]
    }
   ],
   "source": [
    "import cv2\n",
    "import os\n",
    "import glob\n",
    "\n",
    "\n",
    "def read_qr_code(image_path):\n",
    "    # 画像を読み込む\n",
    "    img = cv2.imread(image_path)\n",
    "\n",
    "    # QRCodeDetectorオブジェクトを作成する\n",
    "    detector = cv2.QRCodeDetector()\n",
    "\n",
    "    # QRコードを検出してデコードする\n",
    "    data, points, straight_qrcode = detector.detectAndDecode(img)\n",
    "\n",
    "    if data:\n",
    "        print(f'{os.path.basename(image_path)}: {data}')\n",
    "    else:\n",
    "        print(\"見つからない\")\n",
    "\n",
    "\n",
    "# imgフォルダ内のすべての画像ファイルに対してQRコードの読み取りを行う\n",
    "for image_file in glob.glob('img/*'):\n",
    "    read_qr_code(image_file)\n"
   ]
  },
  {
   "cell_type": "code",
   "execution_count": null,
   "metadata": {},
   "outputs": [],
   "source": []
  },
  {
   "cell_type": "code",
   "execution_count": null,
   "metadata": {},
   "outputs": [],
   "source": [
    "import cv2\n",
    "import os\n",
    "import glob\n",
    "\n",
    "\n",
    "def read_qr_code(image_path):\n",
    "    # 画像を読み込む\n",
    "    img = cv2.imread(image_path)\n",
    "\n",
    "    # QRCodeDetectorオブジェクトを作成する\n",
    "    detector = cv2.QRCodeDetector()\n",
    "\n",
    "    # QRコードを検出してデコードする\n",
    "    import cv2\n",
    "\n",
    "\n",
    "def read_qr_code(image_path):\n",
    "    # 画像を読み込む\n",
    "    img = cv2.imread(image_path)\n",
    "\n",
    "    # QRCodeDetectorオブジェクトを作成する\n",
    "    detector = cv2.QRCodeDetector()\n",
    "\n",
    "    # QRコードを検出してデコードする\n",
    "    retval, decoded_info, points, straight_code = detector.detectAndDecodeMulti(\n",
    "        img)\n",
    "\n",
    "    if retval:\n",
    "        print(f'{os.path.basename(image_path)}: {decoded_info}')\n",
    "    else:\n",
    "        print(f\"読み取り失敗 : {image_path}\")\n",
    "\n",
    "\n",
    "# imgフォルダ内のすべての画像ファイルに対してQRコードの読み取りを行う\n",
    "for image_file in glob.glob('img/*'):\n",
    "    read_qr_code(image_file)\n"
   ]
  }
 ],
 "metadata": {
  "kernelspec": {
   "display_name": "Python 3",
   "language": "python",
   "name": "python3"
  },
  "language_info": {
   "codemirror_mode": {
    "name": "ipython",
    "version": 3
   },
   "file_extension": ".py",
   "mimetype": "text/x-python",
   "name": "python",
   "nbconvert_exporter": "python",
   "pygments_lexer": "ipython3",
   "version": "3.7.8"
  },
  "orig_nbformat": 4
 },
 "nbformat": 4,
 "nbformat_minor": 2
}
